{
  "nbformat": 4,
  "nbformat_minor": 0,
  "metadata": {
    "kernelspec": {
      "display_name": "EnvPython3.6",
      "language": "python",
      "name": "envpython3.6"
    },
    "language_info": {
      "codemirror_mode": {
        "name": "ipython",
        "version": 3
      },
      "file_extension": ".py",
      "mimetype": "text/x-python",
      "name": "python",
      "nbconvert_exporter": "python",
      "pygments_lexer": "ipython3",
      "version": "3.6.10"
    },
    "colab": {
      "name": "Instance segmentation - Crop Images BNDv2.ipynb",
      "provenance": []
    }
  },
  "cells": [
    {
      "cell_type": "markdown",
      "metadata": {
        "id": "LGoeiCE-LXUS"
      },
      "source": [
        "# Using Mask R-CNN to segment objects from images\n",
        "\n",
        "Using a pre-trained model to detect and segment objects. \n",
        "\n",
        "\n",
        "\n",
        "Thanks to https://github.com/matterport/Mask_RCNN for the original code."
      ]
    },
    {
      "cell_type": "code",
      "metadata": {
        "id": "8E0dA0ZFwMBh",
        "colab": {
          "base_uri": "https://localhost:8080/"
        },
        "outputId": "47510c8e-6f51-419d-9566-0d02d7eaab09"
      },
      "source": [
        "from google.colab import drive\n",
        "\n",
        "drive.mount(\"/content/gdrive\")"
      ],
      "execution_count": null,
      "outputs": [
        {
          "output_type": "stream",
          "name": "stdout",
          "text": [
            "Mounted at /content/gdrive\n"
          ]
        }
      ]
    },
    {
      "cell_type": "code",
      "metadata": {
        "colab": {
          "base_uri": "https://localhost:8080/"
        },
        "id": "AO28m6TKw717",
        "outputId": "ff2ba8d2-a1fe-4a5f-c13a-aded12378df7"
      },
      "source": [
        "!python3.6 gdrive/My\\ Drive/Colab\\ Notebooks/Mask_RCNN/samples/Hello.py"
      ],
      "execution_count": null,
      "outputs": [
        {
          "output_type": "stream",
          "name": "stdout",
          "text": [
            "Hello world!!\n"
          ]
        }
      ]
    },
    {
      "cell_type": "code",
      "metadata": {
        "colab": {
          "base_uri": "https://localhost:8080/"
        },
        "id": "GDL64_cSxA0K",
        "outputId": "8335aefe-adb2-4f92-fd4b-a47ea386cd0b"
      },
      "source": [
        " !pip uninstall -y tensorflow"
      ],
      "execution_count": null,
      "outputs": [
        {
          "output_type": "stream",
          "name": "stdout",
          "text": [
            "Found existing installation: tensorflow 2.6.0\n",
            "Uninstalling tensorflow-2.6.0:\n",
            "  Successfully uninstalled tensorflow-2.6.0\n"
          ]
        }
      ]
    },
    {
      "cell_type": "code",
      "metadata": {
        "colab": {
          "base_uri": "https://localhost:8080/"
        },
        "id": "agUslRkLxQUe",
        "outputId": "00369e13-9610-4c6e-a26b-70074a4becca"
      },
      "source": [
        "%cd /content/gdrive/My\\ Drive/Colab\\ Notebooks/Mask_RCNN\n",
        "!pip install -r requirements3.txt"
      ],
      "execution_count": null,
      "outputs": [
        {
          "output_type": "stream",
          "name": "stdout",
          "text": [
            "/content/gdrive/My Drive/Colab Notebooks/Mask_RCNN\n",
            "Requirement already satisfied: cython in /usr/local/lib/python3.7/dist-packages (from -r requirements3.txt (line 1)) (0.29.24)\n",
            "Requirement already satisfied: matplotlib in /usr/local/lib/python3.7/dist-packages (from -r requirements3.txt (line 2)) (3.2.2)\n",
            "Requirement already satisfied: scikit-image in /usr/local/lib/python3.7/dist-packages (from -r requirements3.txt (line 3)) (0.16.2)\n",
            "Collecting tensorflow-gpu==1.15.3\n",
            "  Downloading tensorflow_gpu-1.15.3-cp37-cp37m-manylinux2010_x86_64.whl (411.0 MB)\n",
            "\u001b[K     |████████████████████████████████| 411.0 MB 35 kB/s \n",
            "\u001b[?25hCollecting keras==2.2.4\n",
            "  Downloading Keras-2.2.4-py2.py3-none-any.whl (312 kB)\n",
            "\u001b[K     |████████████████████████████████| 312 kB 69.1 MB/s \n",
            "\u001b[?25hRequirement already satisfied: opencv-python in /usr/local/lib/python3.7/dist-packages (from -r requirements3.txt (line 6)) (4.1.2.30)\n",
            "Collecting h5py==2.10.0\n",
            "  Downloading h5py-2.10.0-cp37-cp37m-manylinux1_x86_64.whl (2.9 MB)\n",
            "\u001b[K     |████████████████████████████████| 2.9 MB 34.9 MB/s \n",
            "\u001b[?25hRequirement already satisfied: imgaug in /usr/local/lib/python3.7/dist-packages (from -r requirements3.txt (line 8)) (0.2.9)\n",
            "Requirement already satisfied: IPython[all] in /usr/local/lib/python3.7/dist-packages (from -r requirements3.txt (line 9)) (5.5.0)\n",
            "Requirement already satisfied: astor>=0.6.0 in /usr/local/lib/python3.7/dist-packages (from tensorflow-gpu==1.15.3->-r requirements3.txt (line 4)) (0.8.1)\n",
            "Requirement already satisfied: absl-py>=0.7.0 in /usr/local/lib/python3.7/dist-packages (from tensorflow-gpu==1.15.3->-r requirements3.txt (line 4)) (0.12.0)\n",
            "Collecting tensorboard<1.16.0,>=1.15.0\n",
            "  Downloading tensorboard-1.15.0-py3-none-any.whl (3.8 MB)\n",
            "\u001b[K     |████████████████████████████████| 3.8 MB 41.2 MB/s \n",
            "\u001b[?25hRequirement already satisfied: termcolor>=1.1.0 in /usr/local/lib/python3.7/dist-packages (from tensorflow-gpu==1.15.3->-r requirements3.txt (line 4)) (1.1.0)\n",
            "Collecting tensorflow-estimator==1.15.1\n",
            "  Downloading tensorflow_estimator-1.15.1-py2.py3-none-any.whl (503 kB)\n",
            "\u001b[K     |████████████████████████████████| 503 kB 78.4 MB/s \n",
            "\u001b[?25hRequirement already satisfied: numpy<2.0,>=1.16.0 in /usr/local/lib/python3.7/dist-packages (from tensorflow-gpu==1.15.3->-r requirements3.txt (line 4)) (1.19.5)\n",
            "Requirement already satisfied: opt-einsum>=2.3.2 in /usr/local/lib/python3.7/dist-packages (from tensorflow-gpu==1.15.3->-r requirements3.txt (line 4)) (3.3.0)\n",
            "Requirement already satisfied: grpcio>=1.8.6 in /usr/local/lib/python3.7/dist-packages (from tensorflow-gpu==1.15.3->-r requirements3.txt (line 4)) (1.41.0)\n",
            "Collecting gast==0.2.2\n",
            "  Downloading gast-0.2.2.tar.gz (10 kB)\n",
            "Requirement already satisfied: six>=1.10.0 in /usr/local/lib/python3.7/dist-packages (from tensorflow-gpu==1.15.3->-r requirements3.txt (line 4)) (1.15.0)\n",
            "Requirement already satisfied: keras-preprocessing>=1.0.5 in /usr/local/lib/python3.7/dist-packages (from tensorflow-gpu==1.15.3->-r requirements3.txt (line 4)) (1.1.2)\n",
            "Requirement already satisfied: wheel>=0.26 in /usr/local/lib/python3.7/dist-packages (from tensorflow-gpu==1.15.3->-r requirements3.txt (line 4)) (0.37.0)\n",
            "Requirement already satisfied: google-pasta>=0.1.6 in /usr/local/lib/python3.7/dist-packages (from tensorflow-gpu==1.15.3->-r requirements3.txt (line 4)) (0.2.0)\n",
            "Requirement already satisfied: wrapt>=1.11.1 in /usr/local/lib/python3.7/dist-packages (from tensorflow-gpu==1.15.3->-r requirements3.txt (line 4)) (1.12.1)\n",
            "Collecting keras-applications>=1.0.8\n",
            "  Downloading Keras_Applications-1.0.8-py3-none-any.whl (50 kB)\n",
            "\u001b[K     |████████████████████████████████| 50 kB 6.1 MB/s \n",
            "\u001b[?25hRequirement already satisfied: protobuf>=3.6.1 in /usr/local/lib/python3.7/dist-packages (from tensorflow-gpu==1.15.3->-r requirements3.txt (line 4)) (3.17.3)\n",
            "Requirement already satisfied: scipy>=0.14 in /usr/local/lib/python3.7/dist-packages (from keras==2.2.4->-r requirements3.txt (line 5)) (1.4.1)\n",
            "Requirement already satisfied: pyyaml in /usr/local/lib/python3.7/dist-packages (from keras==2.2.4->-r requirements3.txt (line 5)) (3.13)\n",
            "Requirement already satisfied: markdown>=2.6.8 in /usr/local/lib/python3.7/dist-packages (from tensorboard<1.16.0,>=1.15.0->tensorflow-gpu==1.15.3->-r requirements3.txt (line 4)) (3.3.4)\n",
            "Requirement already satisfied: setuptools>=41.0.0 in /usr/local/lib/python3.7/dist-packages (from tensorboard<1.16.0,>=1.15.0->tensorflow-gpu==1.15.3->-r requirements3.txt (line 4)) (57.4.0)\n",
            "Requirement already satisfied: werkzeug>=0.11.15 in /usr/local/lib/python3.7/dist-packages (from tensorboard<1.16.0,>=1.15.0->tensorflow-gpu==1.15.3->-r requirements3.txt (line 4)) (1.0.1)\n",
            "Requirement already satisfied: importlib-metadata in /usr/local/lib/python3.7/dist-packages (from markdown>=2.6.8->tensorboard<1.16.0,>=1.15.0->tensorflow-gpu==1.15.3->-r requirements3.txt (line 4)) (4.8.1)\n",
            "Requirement already satisfied: cycler>=0.10 in /usr/local/lib/python3.7/dist-packages (from matplotlib->-r requirements3.txt (line 2)) (0.10.0)\n",
            "Requirement already satisfied: kiwisolver>=1.0.1 in /usr/local/lib/python3.7/dist-packages (from matplotlib->-r requirements3.txt (line 2)) (1.3.2)\n",
            "Requirement already satisfied: python-dateutil>=2.1 in /usr/local/lib/python3.7/dist-packages (from matplotlib->-r requirements3.txt (line 2)) (2.8.2)\n",
            "Requirement already satisfied: pyparsing!=2.0.4,!=2.1.2,!=2.1.6,>=2.0.1 in /usr/local/lib/python3.7/dist-packages (from matplotlib->-r requirements3.txt (line 2)) (2.4.7)\n",
            "Requirement already satisfied: PyWavelets>=0.4.0 in /usr/local/lib/python3.7/dist-packages (from scikit-image->-r requirements3.txt (line 3)) (1.1.1)\n",
            "Requirement already satisfied: pillow>=4.3.0 in /usr/local/lib/python3.7/dist-packages (from scikit-image->-r requirements3.txt (line 3)) (7.1.2)\n",
            "Requirement already satisfied: networkx>=2.0 in /usr/local/lib/python3.7/dist-packages (from scikit-image->-r requirements3.txt (line 3)) (2.6.3)\n",
            "Requirement already satisfied: imageio>=2.3.0 in /usr/local/lib/python3.7/dist-packages (from scikit-image->-r requirements3.txt (line 3)) (2.4.1)\n",
            "Requirement already satisfied: Shapely in /usr/local/lib/python3.7/dist-packages (from imgaug->-r requirements3.txt (line 8)) (1.7.1)\n",
            "Requirement already satisfied: typing-extensions>=3.6.4 in /usr/local/lib/python3.7/dist-packages (from importlib-metadata->markdown>=2.6.8->tensorboard<1.16.0,>=1.15.0->tensorflow-gpu==1.15.3->-r requirements3.txt (line 4)) (3.7.4.3)\n",
            "Requirement already satisfied: zipp>=0.5 in /usr/local/lib/python3.7/dist-packages (from importlib-metadata->markdown>=2.6.8->tensorboard<1.16.0,>=1.15.0->tensorflow-gpu==1.15.3->-r requirements3.txt (line 4)) (3.6.0)\n",
            "Requirement already satisfied: pickleshare in /usr/local/lib/python3.7/dist-packages (from IPython[all]->-r requirements3.txt (line 9)) (0.7.5)\n",
            "Requirement already satisfied: traitlets>=4.2 in /usr/local/lib/python3.7/dist-packages (from IPython[all]->-r requirements3.txt (line 9)) (5.1.0)\n",
            "Requirement already satisfied: prompt-toolkit<2.0.0,>=1.0.4 in /usr/local/lib/python3.7/dist-packages (from IPython[all]->-r requirements3.txt (line 9)) (1.0.18)\n",
            "Requirement already satisfied: pygments in /usr/local/lib/python3.7/dist-packages (from IPython[all]->-r requirements3.txt (line 9)) (2.6.1)\n",
            "Requirement already satisfied: decorator in /usr/local/lib/python3.7/dist-packages (from IPython[all]->-r requirements3.txt (line 9)) (4.4.2)\n",
            "Requirement already satisfied: simplegeneric>0.8 in /usr/local/lib/python3.7/dist-packages (from IPython[all]->-r requirements3.txt (line 9)) (0.8.1)\n",
            "Requirement already satisfied: pexpect in /usr/local/lib/python3.7/dist-packages (from IPython[all]->-r requirements3.txt (line 9)) (4.8.0)\n",
            "Requirement already satisfied: ipywidgets in /usr/local/lib/python3.7/dist-packages (from IPython[all]->-r requirements3.txt (line 9)) (7.6.5)\n",
            "Requirement already satisfied: nbconvert in /usr/local/lib/python3.7/dist-packages (from IPython[all]->-r requirements3.txt (line 9)) (5.6.1)\n",
            "Collecting ipyparallel\n",
            "  Downloading ipyparallel-7.1.0-py3-none-any.whl (391 kB)\n",
            "\u001b[K     |████████████████████████████████| 391 kB 62.1 MB/s \n",
            "\u001b[?25hRequirement already satisfied: qtconsole in /usr/local/lib/python3.7/dist-packages (from IPython[all]->-r requirements3.txt (line 9)) (5.1.1)\n",
            "Requirement already satisfied: nbformat in /usr/local/lib/python3.7/dist-packages (from IPython[all]->-r requirements3.txt (line 9)) (5.1.3)\n",
            "Requirement already satisfied: notebook in /usr/local/lib/python3.7/dist-packages (from IPython[all]->-r requirements3.txt (line 9)) (5.3.1)\n",
            "Requirement already satisfied: Sphinx>=1.3 in /usr/local/lib/python3.7/dist-packages (from IPython[all]->-r requirements3.txt (line 9)) (1.8.5)\n",
            "Requirement already satisfied: requests in /usr/local/lib/python3.7/dist-packages (from IPython[all]->-r requirements3.txt (line 9)) (2.23.0)\n",
            "Requirement already satisfied: ipykernel in /usr/local/lib/python3.7/dist-packages (from IPython[all]->-r requirements3.txt (line 9)) (4.10.1)\n",
            "Collecting nose>=0.10.1\n",
            "  Downloading nose-1.3.7-py3-none-any.whl (154 kB)\n",
            "\u001b[K     |████████████████████████████████| 154 kB 52.0 MB/s \n",
            "\u001b[?25hRequirement already satisfied: testpath in /usr/local/lib/python3.7/dist-packages (from IPython[all]->-r requirements3.txt (line 9)) (0.5.0)\n",
            "Requirement already satisfied: wcwidth in /usr/local/lib/python3.7/dist-packages (from prompt-toolkit<2.0.0,>=1.0.4->IPython[all]->-r requirements3.txt (line 9)) (0.2.5)\n",
            "Requirement already satisfied: imagesize in /usr/local/lib/python3.7/dist-packages (from Sphinx>=1.3->IPython[all]->-r requirements3.txt (line 9)) (1.2.0)\n",
            "Requirement already satisfied: babel!=2.0,>=1.3 in /usr/local/lib/python3.7/dist-packages (from Sphinx>=1.3->IPython[all]->-r requirements3.txt (line 9)) (2.9.1)\n",
            "Requirement already satisfied: Jinja2>=2.3 in /usr/local/lib/python3.7/dist-packages (from Sphinx>=1.3->IPython[all]->-r requirements3.txt (line 9)) (2.11.3)\n",
            "Requirement already satisfied: snowballstemmer>=1.1 in /usr/local/lib/python3.7/dist-packages (from Sphinx>=1.3->IPython[all]->-r requirements3.txt (line 9)) (2.1.0)\n",
            "Requirement already satisfied: sphinxcontrib-websupport in /usr/local/lib/python3.7/dist-packages (from Sphinx>=1.3->IPython[all]->-r requirements3.txt (line 9)) (1.2.4)\n",
            "Requirement already satisfied: packaging in /usr/local/lib/python3.7/dist-packages (from Sphinx>=1.3->IPython[all]->-r requirements3.txt (line 9)) (21.0)\n",
            "Requirement already satisfied: docutils>=0.11 in /usr/local/lib/python3.7/dist-packages (from Sphinx>=1.3->IPython[all]->-r requirements3.txt (line 9)) (0.17.1)\n",
            "Requirement already satisfied: alabaster<0.8,>=0.7 in /usr/local/lib/python3.7/dist-packages (from Sphinx>=1.3->IPython[all]->-r requirements3.txt (line 9)) (0.7.12)\n",
            "Requirement already satisfied: pytz>=2015.7 in /usr/local/lib/python3.7/dist-packages (from babel!=2.0,>=1.3->Sphinx>=1.3->IPython[all]->-r requirements3.txt (line 9)) (2018.9)\n",
            "Requirement already satisfied: MarkupSafe>=0.23 in /usr/local/lib/python3.7/dist-packages (from Jinja2>=2.3->Sphinx>=1.3->IPython[all]->-r requirements3.txt (line 9)) (2.0.1)\n",
            "Requirement already satisfied: chardet<4,>=3.0.2 in /usr/local/lib/python3.7/dist-packages (from requests->IPython[all]->-r requirements3.txt (line 9)) (3.0.4)\n",
            "Requirement already satisfied: certifi>=2017.4.17 in /usr/local/lib/python3.7/dist-packages (from requests->IPython[all]->-r requirements3.txt (line 9)) (2021.5.30)\n",
            "Requirement already satisfied: idna<3,>=2.5 in /usr/local/lib/python3.7/dist-packages (from requests->IPython[all]->-r requirements3.txt (line 9)) (2.10)\n",
            "Requirement already satisfied: urllib3!=1.25.0,!=1.25.1,<1.26,>=1.21.1 in /usr/local/lib/python3.7/dist-packages (from requests->IPython[all]->-r requirements3.txt (line 9)) (1.24.3)\n",
            "Requirement already satisfied: jupyter-client in /usr/local/lib/python3.7/dist-packages (from ipykernel->IPython[all]->-r requirements3.txt (line 9)) (5.3.5)\n",
            "Requirement already satisfied: tornado>=4.0 in /usr/local/lib/python3.7/dist-packages (from ipykernel->IPython[all]->-r requirements3.txt (line 9)) (5.1.1)\n",
            "Requirement already satisfied: tqdm in /usr/local/lib/python3.7/dist-packages (from ipyparallel->IPython[all]->-r requirements3.txt (line 9)) (4.62.3)\n",
            "Requirement already satisfied: entrypoints in /usr/local/lib/python3.7/dist-packages (from ipyparallel->IPython[all]->-r requirements3.txt (line 9)) (0.3)\n",
            "Requirement already satisfied: pyzmq>=18 in /usr/local/lib/python3.7/dist-packages (from ipyparallel->IPython[all]->-r requirements3.txt (line 9)) (22.3.0)\n",
            "Requirement already satisfied: psutil in /usr/local/lib/python3.7/dist-packages (from ipyparallel->IPython[all]->-r requirements3.txt (line 9)) (5.4.8)\n",
            "Requirement already satisfied: widgetsnbextension~=3.5.0 in /usr/local/lib/python3.7/dist-packages (from ipywidgets->IPython[all]->-r requirements3.txt (line 9)) (3.5.1)\n",
            "Requirement already satisfied: jupyterlab-widgets>=1.0.0 in /usr/local/lib/python3.7/dist-packages (from ipywidgets->IPython[all]->-r requirements3.txt (line 9)) (1.0.2)\n",
            "Requirement already satisfied: ipython-genutils~=0.2.0 in /usr/local/lib/python3.7/dist-packages (from ipywidgets->IPython[all]->-r requirements3.txt (line 9)) (0.2.0)\n",
            "Requirement already satisfied: jsonschema!=2.5.0,>=2.4 in /usr/local/lib/python3.7/dist-packages (from nbformat->IPython[all]->-r requirements3.txt (line 9)) (2.6.0)\n",
            "Requirement already satisfied: jupyter-core in /usr/local/lib/python3.7/dist-packages (from nbformat->IPython[all]->-r requirements3.txt (line 9)) (4.8.1)\n",
            "Requirement already satisfied: terminado>=0.8.1 in /usr/local/lib/python3.7/dist-packages (from notebook->IPython[all]->-r requirements3.txt (line 9)) (0.12.1)\n",
            "Requirement already satisfied: Send2Trash in /usr/local/lib/python3.7/dist-packages (from notebook->IPython[all]->-r requirements3.txt (line 9)) (1.8.0)\n",
            "Requirement already satisfied: ptyprocess in /usr/local/lib/python3.7/dist-packages (from terminado>=0.8.1->notebook->IPython[all]->-r requirements3.txt (line 9)) (0.7.0)\n",
            "Requirement already satisfied: mistune<2,>=0.8.1 in /usr/local/lib/python3.7/dist-packages (from nbconvert->IPython[all]->-r requirements3.txt (line 9)) (0.8.4)\n",
            "Requirement already satisfied: pandocfilters>=1.4.1 in /usr/local/lib/python3.7/dist-packages (from nbconvert->IPython[all]->-r requirements3.txt (line 9)) (1.5.0)\n",
            "Requirement already satisfied: bleach in /usr/local/lib/python3.7/dist-packages (from nbconvert->IPython[all]->-r requirements3.txt (line 9)) (4.1.0)\n",
            "Requirement already satisfied: defusedxml in /usr/local/lib/python3.7/dist-packages (from nbconvert->IPython[all]->-r requirements3.txt (line 9)) (0.7.1)\n",
            "Requirement already satisfied: webencodings in /usr/local/lib/python3.7/dist-packages (from bleach->nbconvert->IPython[all]->-r requirements3.txt (line 9)) (0.5.1)\n",
            "Requirement already satisfied: qtpy in /usr/local/lib/python3.7/dist-packages (from qtconsole->IPython[all]->-r requirements3.txt (line 9)) (1.11.2)\n",
            "Requirement already satisfied: sphinxcontrib-serializinghtml in /usr/local/lib/python3.7/dist-packages (from sphinxcontrib-websupport->Sphinx>=1.3->IPython[all]->-r requirements3.txt (line 9)) (1.1.5)\n",
            "Building wheels for collected packages: gast\n",
            "  Building wheel for gast (setup.py) ... \u001b[?25l\u001b[?25hdone\n",
            "  Created wheel for gast: filename=gast-0.2.2-py3-none-any.whl size=7554 sha256=bd54de4b85c7d7995823ac05ad13c3e28a2b6fb30471c7b1b07b64ca992c0854\n",
            "  Stored in directory: /root/.cache/pip/wheels/21/7f/02/420f32a803f7d0967b48dd823da3f558c5166991bfd204eef3\n",
            "Successfully built gast\n",
            "Installing collected packages: h5py, tensorflow-estimator, tensorboard, nose, keras-applications, ipyparallel, gast, tensorflow-gpu, keras\n",
            "  Attempting uninstall: h5py\n",
            "    Found existing installation: h5py 3.1.0\n",
            "    Uninstalling h5py-3.1.0:\n",
            "      Successfully uninstalled h5py-3.1.0\n",
            "  Attempting uninstall: tensorflow-estimator\n",
            "    Found existing installation: tensorflow-estimator 2.6.0\n",
            "    Uninstalling tensorflow-estimator-2.6.0:\n",
            "      Successfully uninstalled tensorflow-estimator-2.6.0\n",
            "  Attempting uninstall: tensorboard\n",
            "    Found existing installation: tensorboard 2.6.0\n",
            "    Uninstalling tensorboard-2.6.0:\n",
            "      Successfully uninstalled tensorboard-2.6.0\n",
            "  Attempting uninstall: gast\n",
            "    Found existing installation: gast 0.4.0\n",
            "    Uninstalling gast-0.4.0:\n",
            "      Successfully uninstalled gast-0.4.0\n",
            "  Attempting uninstall: keras\n",
            "    Found existing installation: keras 2.6.0\n",
            "    Uninstalling keras-2.6.0:\n",
            "      Successfully uninstalled keras-2.6.0\n",
            "\u001b[31mERROR: pip's dependency resolver does not currently take into account all the packages that are installed. This behaviour is the source of the following dependency conflicts.\n",
            "tensorflow-probability 0.14.1 requires gast>=0.3.2, but you have gast 0.2.2 which is incompatible.\u001b[0m\n",
            "Successfully installed gast-0.2.2 h5py-2.10.0 ipyparallel-7.1.0 keras-2.2.4 keras-applications-1.0.8 nose-1.3.7 tensorboard-1.15.0 tensorflow-estimator-1.15.1 tensorflow-gpu-1.15.3\n"
          ]
        }
      ]
    },
    {
      "cell_type": "code",
      "metadata": {
        "colab": {
          "base_uri": "https://localhost:8080/"
        },
        "id": "xLt_npkMxUjK",
        "outputId": "24b360c8-344a-4d01-ec45-c9cd73ce652e"
      },
      "source": [
        "#%tensorflow_version 2.x #use this to select the version of Tensorflow to uninstall\n",
        "\n",
        "%tensorflow_version 1.x #use this to select the version of Tensorflow to run\n"
      ],
      "execution_count": null,
      "outputs": [
        {
          "output_type": "stream",
          "name": "stdout",
          "text": [
            "`%tensorflow_version` only switches the major version: 1.x or 2.x.\n",
            "You set: `1.x #use this to select the version of Tensorflow to run`. This will be interpreted as: `1.x`.\n",
            "\n",
            "\n",
            "TensorFlow 1.x selected.\n"
          ]
        }
      ]
    },
    {
      "cell_type": "markdown",
      "metadata": {
        "id": "IfsT3Dq1MGjP"
      },
      "source": [
        "\n",
        "restart kernel here"
      ]
    },
    {
      "cell_type": "code",
      "metadata": {
        "id": "4Uu61EtMLXUd"
      },
      "source": [
        "#%cd C:\\Users\\tinom\\Mask_RCNN\n",
        "    \n",
        "#!pip install -r requirements4.txt"
      ],
      "execution_count": null,
      "outputs": []
    },
    {
      "cell_type": "code",
      "metadata": {
        "id": "bguepN7NLXUf"
      },
      "source": [
        "#Restart kernel"
      ],
      "execution_count": null,
      "outputs": []
    },
    {
      "cell_type": "code",
      "metadata": {
        "id": "5PZ3McQkLXUg"
      },
      "source": [
        "import os\n",
        "import sys\n",
        "import random\n",
        "import math\n",
        "import numpy as np\n",
        "import skimage.io\n",
        "import matplotlib\n",
        "import matplotlib.pyplot as plt\n",
        "import pandas as pd\n",
        "from tqdm import tqdm"
      ],
      "execution_count": null,
      "outputs": []
    },
    {
      "cell_type": "code",
      "metadata": {
        "id": "m0AkJU_vLXUg"
      },
      "source": [
        "# Root directory of the project\n",
        "#ROOT_DIR = os.path.abspath(\"../\")\n",
        "#ROOT_DIR = os.path.abspath(\"C:/Users/tinom/Mask_RCNN\")\n",
        "ROOT_DIR = os.path.abspath(\"gdrive//My Drive//Colab Notebooks//Mask_RCNN\")"
      ],
      "execution_count": null,
      "outputs": []
    },
    {
      "cell_type": "code",
      "metadata": {
        "id": "uQ0FNvJ1LXUh",
        "outputId": "983f2d58-54f1-4e0f-9584-97f33905a882"
      },
      "source": [
        "os.chdir(ROOT_DIR)\n",
        "os.getcwd()\n"
      ],
      "execution_count": null,
      "outputs": [
        {
          "data": {
            "text/plain": [
              "'C:\\\\Users\\\\tinom\\\\Mask_RCNN\\\\mrcnn'"
            ]
          },
          "execution_count": 6,
          "metadata": {},
          "output_type": "execute_result"
        }
      ]
    },
    {
      "cell_type": "code",
      "metadata": {
        "id": "10LWFaIsLXUk",
        "outputId": "7397e9e1-4204-4afc-f623-02482eb1ea15"
      },
      "source": [
        "# Import Mask RCNN\n",
        "sys.path.append(ROOT_DIR)  # To find local version of the library\n",
        "from mrcnn import utils\n",
        "import mrcnn.model as modellib\n",
        "#import model as modellib\n",
        "\n",
        "from mrcnn import visualize"
      ],
      "execution_count": null,
      "outputs": [
        {
          "name": "stderr",
          "output_type": "stream",
          "text": [
            "C:\\Users\\tinom\\anaconda3\\envs\\EnvPython3.6\\lib\\site-packages\\tensorflow\\python\\framework\\dtypes.py:516: FutureWarning: Passing (type, 1) or '1type' as a synonym of type is deprecated; in a future version of numpy, it will be understood as (type, (1,)) / '(1,)type'.\n",
            "  _np_qint8 = np.dtype([(\"qint8\", np.int8, 1)])\n",
            "C:\\Users\\tinom\\anaconda3\\envs\\EnvPython3.6\\lib\\site-packages\\tensorflow\\python\\framework\\dtypes.py:517: FutureWarning: Passing (type, 1) or '1type' as a synonym of type is deprecated; in a future version of numpy, it will be understood as (type, (1,)) / '(1,)type'.\n",
            "  _np_quint8 = np.dtype([(\"quint8\", np.uint8, 1)])\n",
            "C:\\Users\\tinom\\anaconda3\\envs\\EnvPython3.6\\lib\\site-packages\\tensorflow\\python\\framework\\dtypes.py:518: FutureWarning: Passing (type, 1) or '1type' as a synonym of type is deprecated; in a future version of numpy, it will be understood as (type, (1,)) / '(1,)type'.\n",
            "  _np_qint16 = np.dtype([(\"qint16\", np.int16, 1)])\n",
            "C:\\Users\\tinom\\anaconda3\\envs\\EnvPython3.6\\lib\\site-packages\\tensorflow\\python\\framework\\dtypes.py:519: FutureWarning: Passing (type, 1) or '1type' as a synonym of type is deprecated; in a future version of numpy, it will be understood as (type, (1,)) / '(1,)type'.\n",
            "  _np_quint16 = np.dtype([(\"quint16\", np.uint16, 1)])\n",
            "C:\\Users\\tinom\\anaconda3\\envs\\EnvPython3.6\\lib\\site-packages\\tensorflow\\python\\framework\\dtypes.py:520: FutureWarning: Passing (type, 1) or '1type' as a synonym of type is deprecated; in a future version of numpy, it will be understood as (type, (1,)) / '(1,)type'.\n",
            "  _np_qint32 = np.dtype([(\"qint32\", np.int32, 1)])\n",
            "C:\\Users\\tinom\\anaconda3\\envs\\EnvPython3.6\\lib\\site-packages\\tensorflow\\python\\framework\\dtypes.py:525: FutureWarning: Passing (type, 1) or '1type' as a synonym of type is deprecated; in a future version of numpy, it will be understood as (type, (1,)) / '(1,)type'.\n",
            "  np_resource = np.dtype([(\"resource\", np.ubyte, 1)])\n",
            "C:\\Users\\tinom\\anaconda3\\envs\\EnvPython3.6\\lib\\site-packages\\tensorboard\\compat\\tensorflow_stub\\dtypes.py:541: FutureWarning: Passing (type, 1) or '1type' as a synonym of type is deprecated; in a future version of numpy, it will be understood as (type, (1,)) / '(1,)type'.\n",
            "  _np_qint8 = np.dtype([(\"qint8\", np.int8, 1)])\n",
            "C:\\Users\\tinom\\anaconda3\\envs\\EnvPython3.6\\lib\\site-packages\\tensorboard\\compat\\tensorflow_stub\\dtypes.py:542: FutureWarning: Passing (type, 1) or '1type' as a synonym of type is deprecated; in a future version of numpy, it will be understood as (type, (1,)) / '(1,)type'.\n",
            "  _np_quint8 = np.dtype([(\"quint8\", np.uint8, 1)])\n",
            "C:\\Users\\tinom\\anaconda3\\envs\\EnvPython3.6\\lib\\site-packages\\tensorboard\\compat\\tensorflow_stub\\dtypes.py:543: FutureWarning: Passing (type, 1) or '1type' as a synonym of type is deprecated; in a future version of numpy, it will be understood as (type, (1,)) / '(1,)type'.\n",
            "  _np_qint16 = np.dtype([(\"qint16\", np.int16, 1)])\n",
            "C:\\Users\\tinom\\anaconda3\\envs\\EnvPython3.6\\lib\\site-packages\\tensorboard\\compat\\tensorflow_stub\\dtypes.py:544: FutureWarning: Passing (type, 1) or '1type' as a synonym of type is deprecated; in a future version of numpy, it will be understood as (type, (1,)) / '(1,)type'.\n",
            "  _np_quint16 = np.dtype([(\"quint16\", np.uint16, 1)])\n",
            "C:\\Users\\tinom\\anaconda3\\envs\\EnvPython3.6\\lib\\site-packages\\tensorboard\\compat\\tensorflow_stub\\dtypes.py:545: FutureWarning: Passing (type, 1) or '1type' as a synonym of type is deprecated; in a future version of numpy, it will be understood as (type, (1,)) / '(1,)type'.\n",
            "  _np_qint32 = np.dtype([(\"qint32\", np.int32, 1)])\n",
            "C:\\Users\\tinom\\anaconda3\\envs\\EnvPython3.6\\lib\\site-packages\\tensorboard\\compat\\tensorflow_stub\\dtypes.py:550: FutureWarning: Passing (type, 1) or '1type' as a synonym of type is deprecated; in a future version of numpy, it will be understood as (type, (1,)) / '(1,)type'.\n",
            "  np_resource = np.dtype([(\"resource\", np.ubyte, 1)])\n",
            "Using TensorFlow backend.\n"
          ]
        }
      ]
    },
    {
      "cell_type": "code",
      "metadata": {
        "id": "Q44R9VpSLXUm"
      },
      "source": [
        "# Import COCO config\n",
        "#sys.path.append(os.path.join(ROOT_DIR, \"samples/coco/\"))  # To find local version\n",
        "#import coco"
      ],
      "execution_count": null,
      "outputs": []
    },
    {
      "cell_type": "code",
      "metadata": {
        "id": "iCWzbYwFLXUn"
      },
      "source": [
        "# Import HBW config\n",
        "sys.path.append(os.path.join(ROOT_DIR, \"samples/BND/\"))  # To find local version\n",
        "import BND3"
      ],
      "execution_count": null,
      "outputs": []
    },
    {
      "cell_type": "code",
      "metadata": {
        "id": "AWJPTsCyLXUo"
      },
      "source": [
        "%matplotlib inline \n",
        "\n",
        "# Directory to save logs and trained model\n",
        "#MODEL_DIR = os.path.join(ROOT_DIR, \"logs\")\n",
        "\n",
        "#MODEL_DIR = r\"C:\\Users\\tinom\\Mask_RCNN\\logs\\Colab_Model\"\n",
        "MODEL_DIR = os.path.join(ROOT_DIR, \"Production models\")\n",
        "\n",
        "# Local path to trained weights file\n",
        "#COCO_MODEL_PATH = os.path.join(ROOT_DIR, \"mask_rcnn_coco.h5\")\n",
        "\n",
        "MODEL_PATH = os.path.join(MODEL_DIR, \"mask_rcnn_BND_0030.h5\")\n",
        "\n",
        "# Download COCO trained weights from Releases if needed\n",
        "#if not os.path.exists(COCO_MODEL_PATH):\n",
        "#    utils.download_trained_weights(COCO_MODEL_PATH)\n",
        "\n",
        "# Directory of images to run detection on\n",
        "#IMAGE_DIR = os.path.join(ROOT_DIR, \"images\")\n",
        "\n",
        "#IMAGE_DIR = \"C://Users//tinom//Downloads//DissertationData//Dolphin\"\n",
        "IMAGE_DIR = \"//content//gdrive//My Drive//Colab Notebooks//Mask_RCNN//datasets//BND//Train_100//val//Images\""
      ],
      "execution_count": null,
      "outputs": []
    },
    {
      "cell_type": "markdown",
      "metadata": {
        "id": "JGLVPBs8LXUo"
      },
      "source": [
        "## Configurations\n",
        "\n",
        "We'll be using a model initially trained on the MS-COCO dataset then updated to learn whale fins using a training set of 100 images. The configurations of this model are in the ```HBWConfig``` class in ```HBW.py```.\n",
        "\n",
        "For inferencing, modify the configurations a bit to fit the task. To do so, sub-class the ```CoConfig``` class and override the attributes you need to change."
      ]
    },
    {
      "cell_type": "code",
      "metadata": {
        "id": "_YOmipr5LXUp",
        "outputId": "a20cb302-b758-4a37-ec75-c27cde78d018"
      },
      "source": [
        "class InferenceConfig(BND3.BNDConfig):\n",
        "    # Set batch size to 1 since we'll be running inference on\n",
        "    # one image at a time. Batch size = GPU_COUNT * IMAGES_PER_GPU\n",
        "    GPU_COUNT = 1\n",
        "    IMAGES_PER_GPU = 1\n",
        "\n",
        "config = InferenceConfig()\n",
        "config.display()"
      ],
      "execution_count": null,
      "outputs": [
        {
          "name": "stdout",
          "output_type": "stream",
          "text": [
            "\n",
            "Configurations:\n",
            "BACKBONE                       resnet101\n",
            "BACKBONE_STRIDES               [4, 8, 16, 32, 64]\n",
            "BATCH_SIZE                     1\n",
            "BBOX_STD_DEV                   [0.1 0.1 0.2 0.2]\n",
            "COMPUTE_BACKBONE_SHAPE         None\n",
            "DETECTION_MAX_INSTANCES        100\n",
            "DETECTION_MIN_CONFIDENCE       0.0\n",
            "DETECTION_NMS_THRESHOLD        0.3\n",
            "FPN_CLASSIF_FC_LAYERS_SIZE     1024\n",
            "GPU_COUNT                      1\n",
            "GRADIENT_CLIP_NORM             5.0\n",
            "IMAGES_PER_GPU                 1\n",
            "IMAGE_CHANNEL_COUNT            3\n",
            "IMAGE_MAX_DIM                  1024\n",
            "IMAGE_META_SIZE                14\n",
            "IMAGE_MIN_DIM                  800\n",
            "IMAGE_MIN_SCALE                0\n",
            "IMAGE_RESIZE_MODE              square\n",
            "IMAGE_SHAPE                    [1024 1024    3]\n",
            "LEARNING_MOMENTUM              0.9\n",
            "LEARNING_RATE                  0.001\n",
            "LOSS_WEIGHTS                   {'rpn_class_loss': 1.0, 'rpn_bbox_loss': 1.0, 'mrcnn_class_loss': 1.0, 'mrcnn_bbox_loss': 1.0, 'mrcnn_mask_loss': 1.0}\n",
            "MASK_POOL_SIZE                 14\n",
            "MASK_SHAPE                     [28, 28]\n",
            "MAX_GT_INSTANCES               100\n",
            "MEAN_PIXEL                     [123.7 116.8 103.9]\n",
            "MINI_MASK_SHAPE                (56, 56)\n",
            "NAME                           BND\n",
            "NUM_CLASSES                    2\n",
            "POOL_SIZE                      7\n",
            "POST_NMS_ROIS_INFERENCE        1000\n",
            "POST_NMS_ROIS_TRAINING         2000\n",
            "PRE_NMS_LIMIT                  6000\n",
            "ROI_POSITIVE_RATIO             0.33\n",
            "RPN_ANCHOR_RATIOS              [0.5, 1, 2]\n",
            "RPN_ANCHOR_SCALES              (32, 64, 128, 256, 512)\n",
            "RPN_ANCHOR_STRIDE              1\n",
            "RPN_BBOX_STD_DEV               [0.1 0.1 0.2 0.2]\n",
            "RPN_NMS_THRESHOLD              0.7\n",
            "RPN_TRAIN_ANCHORS_PER_IMAGE    256\n",
            "STEPS_PER_EPOCH                100\n",
            "TOP_DOWN_PYRAMID_SIZE          256\n",
            "TRAIN_BN                       False\n",
            "TRAIN_ROIS_PER_IMAGE           200\n",
            "USE_MINI_MASK                  True\n",
            "USE_RPN_ROIS                   True\n",
            "VALIDATION_STEPS               50\n",
            "WEIGHT_DECAY                   0.0001\n",
            "\n",
            "\n"
          ]
        }
      ]
    },
    {
      "cell_type": "markdown",
      "metadata": {
        "id": "TlRzu-E1LXUq"
      },
      "source": [
        "## Create Model and Load Trained Weights"
      ]
    },
    {
      "cell_type": "code",
      "metadata": {
        "id": "s0KVMpMcLXUq",
        "outputId": "96bd21c3-e911-45d4-8b89-c6da35e67dce"
      },
      "source": [
        "# Create model object in inference mode.\n",
        "model = modellib.MaskRCNN(mode=\"inference\", model_dir=MODEL_DIR, config=config)"
      ],
      "execution_count": null,
      "outputs": [
        {
          "name": "stdout",
          "output_type": "stream",
          "text": [
            "WARNING:tensorflow:From C:\\Users\\tinom\\anaconda3\\envs\\EnvPython3.6\\lib\\site-packages\\keras\\backend\\tensorflow_backend.py:517: The name tf.placeholder is deprecated. Please use tf.compat.v1.placeholder instead.\n",
            "\n",
            "WARNING:tensorflow:From C:\\Users\\tinom\\anaconda3\\envs\\EnvPython3.6\\lib\\site-packages\\keras\\backend\\tensorflow_backend.py:74: The name tf.get_default_graph is deprecated. Please use tf.compat.v1.get_default_graph instead.\n",
            "\n",
            "WARNING:tensorflow:From C:\\Users\\tinom\\anaconda3\\envs\\EnvPython3.6\\lib\\site-packages\\keras\\backend\\tensorflow_backend.py:4138: The name tf.random_uniform is deprecated. Please use tf.random.uniform instead.\n",
            "\n",
            "WARNING:tensorflow:From C:\\Users\\tinom\\anaconda3\\envs\\EnvPython3.6\\lib\\site-packages\\keras\\backend\\tensorflow_backend.py:1919: The name tf.nn.fused_batch_norm is deprecated. Please use tf.compat.v1.nn.fused_batch_norm instead.\n",
            "\n",
            "WARNING:tensorflow:From C:\\Users\\tinom\\anaconda3\\envs\\EnvPython3.6\\lib\\site-packages\\keras\\backend\\tensorflow_backend.py:3976: The name tf.nn.max_pool is deprecated. Please use tf.nn.max_pool2d instead.\n",
            "\n",
            "WARNING:tensorflow:From C:\\Users\\tinom\\anaconda3\\envs\\EnvPython3.6\\lib\\site-packages\\keras\\backend\\tensorflow_backend.py:2018: The name tf.image.resize_nearest_neighbor is deprecated. Please use tf.compat.v1.image.resize_nearest_neighbor instead.\n",
            "\n",
            "WARNING:tensorflow:From C:\\Users\\tinom\\Mask_RCNN\\mrcnn\\model.py:336: The name tf.log is deprecated. Please use tf.math.log instead.\n",
            "\n",
            "WARNING:tensorflow:From C:\\Users\\tinom\\Mask_RCNN\\mrcnn\\model.py:391: add_dispatch_support.<locals>.wrapper (from tensorflow.python.ops.array_ops) is deprecated and will be removed in a future version.\n",
            "Instructions for updating:\n",
            "Use tf.where in 2.0, which has the same broadcast rule as np.where\n",
            "WARNING:tensorflow:From C:\\Users\\tinom\\Mask_RCNN\\mrcnn\\model.py:415: calling crop_and_resize_v1 (from tensorflow.python.ops.image_ops_impl) with box_ind is deprecated and will be removed in a future version.\n",
            "Instructions for updating:\n",
            "box_ind is deprecated, use box_indices instead\n",
            "WARNING:tensorflow:From C:\\Users\\tinom\\Mask_RCNN\\mrcnn\\model.py:742: The name tf.sets.set_intersection is deprecated. Please use tf.sets.intersection instead.\n",
            "\n",
            "WARNING:tensorflow:From C:\\Users\\tinom\\Mask_RCNN\\mrcnn\\model.py:744: The name tf.sparse_tensor_to_dense is deprecated. Please use tf.sparse.to_dense instead.\n",
            "\n",
            "WARNING:tensorflow:From C:\\Users\\tinom\\Mask_RCNN\\mrcnn\\model.py:756: to_float (from tensorflow.python.ops.math_ops) is deprecated and will be removed in a future version.\n",
            "Instructions for updating:\n",
            "Use `tf.cast` instead.\n"
          ]
        }
      ]
    },
    {
      "cell_type": "code",
      "metadata": {
        "scrolled": false,
        "id": "mCCoSySHLXUr"
      },
      "source": [
        "# Load weights trained on MS-COCO + annotated photographs\n",
        "model.load_weights(MODEL_PATH, by_name=True)"
      ],
      "execution_count": null,
      "outputs": []
    },
    {
      "cell_type": "markdown",
      "metadata": {
        "id": "L5gQcEhSLXUr"
      },
      "source": [
        "## Class Names\n",
        "\n",
        "The model classifies objects and returns class IDs, which are integer value that identify each class. Some datasets assign integer values to their classes and some don't. For example, in the MS-COCO dataset, the 'person' class is 1 and 'teddy bear' is 88. The IDs are often sequential, but not always. The COCO dataset, for example, has classes associated with class IDs 70 and 72, but not 71.\n",
        "\n",
        "To improve consistency, and to support training on data from multiple sources at the same time, our ```Dataset``` class assigns it's own sequential integer IDs to each class. For example, if you load the COCO dataset using our ```Dataset``` class, the 'person' class would get class ID = 1 (just like COCO) and the 'teddy bear' class is 78 (different from COCO). Keep that in mind when mapping class IDs to class names.\n",
        "\n",
        "To get the list of class names, you'd load the dataset and then use the ```class_names``` property like this.\n",
        "```\n",
        "# Load COCO dataset\n",
        "dataset = coco.CocoDataset()\n",
        "dataset.load_coco(COCO_DIR, \"train\")\n",
        "dataset.prepare()\n",
        "\n",
        "# Print class names\n",
        "print(dataset.class_names)\n",
        "```\n",
        "\n",
        "We don't want to require you to download the COCO dataset just to run this demo, so we're including the list of class names below. The index of the class name in the list represent its ID (first class is 0, second is 1, third is 2, ...etc.)"
      ]
    },
    {
      "cell_type": "code",
      "metadata": {
        "id": "wqg_xUo6LXUs",
        "outputId": "a1a13c13-fdb6-44d3-afa1-6d9ac1c76440"
      },
      "source": [
        "# Load COCO dataset\n",
        "dataset = BND3.BNDDataset()\n",
        "BND_DIR = os.path.join(ROOT_DIR, \"datasets//BND//Train_200\")\n",
        "dataset.load_BND(BND_DIR, \"train\")\n",
        "dataset.prepare()\n",
        "\n",
        "# Print class names\n",
        "print(dataset.class_names)"
      ],
      "execution_count": null,
      "outputs": [
        {
          "name": "stdout",
          "output_type": "stream",
          "text": [
            "['BG', 'dolphin']\n"
          ]
        }
      ]
    },
    {
      "cell_type": "code",
      "metadata": {
        "id": "dToGfuDbLXUt"
      },
      "source": [
        "class_names = ['BG', 'dolphin']"
      ],
      "execution_count": null,
      "outputs": []
    },
    {
      "cell_type": "markdown",
      "metadata": {
        "id": "YKdx6veJLXUt"
      },
      "source": [
        "## Run Object Detection"
      ]
    },
    {
      "cell_type": "code",
      "metadata": {
        "id": "9RngNZlNLXUu"
      },
      "source": [
        "import cv2\n",
        "#import argparse\n",
        "import imutils\n",
        "import colorsys"
      ],
      "execution_count": null,
      "outputs": []
    },
    {
      "cell_type": "code",
      "metadata": {
        "id": "dRIWdzmHLXUv"
      },
      "source": [
        "#source = r\"C:\\Users\\tinom\\Downloads\\DissertationData\\Dolphin\"\n",
        "#destination = r\"C:\\Users\\tinom\\Mask_RCNN\\BND\\17112021_Cropped Images\""
      ],
      "execution_count": null,
      "outputs": []
    },
    {
      "cell_type": "code",
      "metadata": {
        "id": "dQowTCFiOM9i"
      },
      "source": [
        "source = os.path.join(ROOT_DIR, \"datasets//BND//Dolphin\")\n",
        "destination = os.path.join(ROOT_DIR, \"Output//17112021_Cropped Images\")"
      ],
      "execution_count": null,
      "outputs": []
    },
    {
      "cell_type": "markdown",
      "metadata": {
        "id": "bF3DRSy9LXUv"
      },
      "source": [
        "Get files that haven't been cropped yet"
      ]
    },
    {
      "cell_type": "code",
      "metadata": {
        "id": "a7OmJ1cPLXUw"
      },
      "source": [
        "#Function to get order of masks from left to right\n",
        "\n",
        "def order_masks(masks):\n",
        "    \n",
        "    if masks.shape[0] == 1:\n",
        "        return [0]\n",
        "    else:\n",
        "        \n",
        "        mask_left_most_point = []\n",
        "\n",
        "        for i in range(masks.shape[0]):\n",
        "            positions = np.nonzero(masks[i])\n",
        "            left = positions[1].min()\n",
        "            mask_left_most_point.append(left)\n",
        "\n",
        "        array = np.array(mask_left_most_point)\n",
        "        temp = array.argsort()\n",
        "        ranks = np.empty_like(temp)\n",
        "        ranks[temp] = np.arange(len(array))\n",
        "\n",
        "        return ranks"
      ],
      "execution_count": null,
      "outputs": []
    },
    {
      "cell_type": "code",
      "metadata": {
        "id": "vW08x7rRLXUw"
      },
      "source": [
        "# check if some images have already been cropped, if so only rerurn the uncropped images\n",
        "\n",
        "def check_cropped(source, target):\n",
        "    \n",
        "    ImageFiles = pd.DataFrame(os.listdir(source))\n",
        "\n",
        "    if len(os.listdir(target)) > 0:\n",
        "        CroppedFiles = pd.DataFrame(os.listdir(target))\n",
        "        CroppedFiles =  pd.DataFrame(CroppedFiles[0].str.split(\"_\", expand = True))\n",
        "        RemainingImages = ImageFiles[0].loc[ImageFiles[0].isin(list(CroppedFiles[2])) == False]\n",
        "    else: \n",
        "        RemainingImages = ImageFiles[0]\n",
        "        \n",
        "    return RemainingImages"
      ],
      "execution_count": null,
      "outputs": []
    },
    {
      "cell_type": "code",
      "metadata": {
        "id": "MB_TjzRXLXUw"
      },
      "source": [
        "def crop_images(RemainingImages, source, destination):\n",
        "    \n",
        "    res = pd.DataFrame(columns = [\"File\", \"Instances\"])\n",
        "    \n",
        "    for img in tqdm(list(RemainingImages)):\n",
        "        \n",
        "        print(\"Processing image: \" + img)\n",
        "        OGimage = skimage.io.imread(os.path.join(source, img))\n",
        "\n",
        "        # Run detection\n",
        "        results = model.detect([OGimage], verbose=1)\n",
        "\n",
        "        # Visualize results\n",
        "        r = results[0]\n",
        "\n",
        "        #visualize.display_instances(image, r['rois'], r['masks'], r['class_ids'], \n",
        "        #                       class_names, r['scores'])\n",
        "\n",
        "         #visualize.display_instances2(OGimage, r['rois'], r['masks'], r['class_ids'], \n",
        "         #                   class_names, r['scores'], img = img)\n",
        "\n",
        "        #Processed_image = visualize.display_instances2(OGimage, r['rois'], r['masks'], r['class_ids'], \n",
        "        #                    class_names, r['scores'], img = img)\n",
        "\n",
        "        ## get and then save the segmented objects\n",
        "\n",
        "        i = 0\n",
        "\n",
        "        mask = r[\"masks\"]\n",
        "\n",
        "        reshaped_masks = mask.transpose(2,0,1).reshape(mask.shape[2], r[\"masks\"].shape[0],r[\"masks\"].shape[1])\n",
        "        ranks = order_masks(reshaped_masks)\n",
        "        \n",
        "        newRes = pd.DataFrame([[img, len((r[\"rois\"]))]], columns = [\"File\", \"Instances\"])\n",
        "        #print(newRes)\n",
        "        res = res.append(newRes, ignore_index = True) \n",
        "        #print(res)\n",
        "        \n",
        "        \n",
        "        for i in range(r[\"masks\"].shape[2]):\n",
        "            OGimage = cv2.imread(os.path.join(source, img))\n",
        "\n",
        "            OGimage = cv2.resize(OGimage, (r[\"masks\"].shape[1], r[\"masks\"].shape[0]))\n",
        "\n",
        "            for j in range(OGimage.shape[2]):\n",
        "\n",
        "                mask = cv2.dilate(np.float32(r[\"masks\"]), cv2.getStructuringElement(cv2.MORPH_ELLIPSE, (40,40)), iterations = 1)\n",
        "\n",
        "                try:\n",
        "                    mask1 = mask.transpose(2,0,1).reshape(r[\"masks\"].shape[2], r[\"masks\"].shape[0],r[\"masks\"].shape[1])[i]\n",
        "                except:\n",
        "                    mask1 = mask\n",
        "\n",
        "                OGimage[:,:,j] = OGimage[:,:,j] * mask1[:,:]\n",
        "\n",
        "            filename = os.path.join(destination, \"CroppedDil_\" + str(ranks[i]) + \"_\"+ img)\n",
        "            cv2.imwrite(filename,OGimage)\n",
        "            i+=1\n",
        "        \n",
        "        #print(pd.DataFrame([[img, len((r[\"rois\"]))]], columns = [\"File\", \"Instances\"]))\n",
        "        #res.append(pd.DataFrame([[img, len((r[\"rois\"]))]], columns = [\"File\", \"Instances\"])) \n",
        "        #print(res)\n",
        "        \n",
        "        #print(pd.DataFrame([[img, i]], columns = [\"File\", \"Instances\"]))\n",
        "        #res.append(pd.DataFrame([[img, i]], columns = [\"File\", \"Instances\"])) \n",
        "        #print(res)\n",
        "        \n",
        "    return res\n"
      ],
      "execution_count": null,
      "outputs": []
    },
    {
      "cell_type": "code",
      "metadata": {
        "id": "M4tMEyYELXUx"
      },
      "source": [
        "def load_image(img, source):\n",
        "\n",
        "    OGimage = skimage.io.imread(os.path.join(source, img))\n",
        "\n",
        "    # Run detection\n",
        "    results = model.detect([OGimage], verbose=1)\n",
        "\n",
        "    # Visualize results\n",
        "    r = results[0]\n",
        "\n",
        "    #visualize.display_instances(image, r['rois'], r['masks'], r['class_ids'], \n",
        "    #                       class_names, r['scores'])\n",
        "\n",
        "     #visualize.display_instances2(OGimage, r['rois'], r['masks'], r['class_ids'], \n",
        "     #                   class_names, r['scores'], img = img)\n",
        "\n",
        "    visualize.display_instances2(OGimage, r['rois'], r['masks'], r['class_ids'], \n",
        "                        class_names, r['scores'], img = img)\n",
        "\n",
        "    ## get and then save the segmented objects\n",
        "\n",
        "    i = 0\n",
        "\n",
        "    mask = r[\"masks\"]\n",
        "\n",
        "    reshaped_masks = mask.transpose(2,0,1).reshape(mask.shape[2], r[\"masks\"].shape[0],r[\"masks\"].shape[1])\n",
        "    ranks = order_masks(reshaped_masks)\n",
        "\n",
        "    print(masks.shape)"
      ],
      "execution_count": null,
      "outputs": []
    },
    {
      "cell_type": "raw",
      "metadata": {
        "id": "eiul_shhLXUx"
      },
      "source": [
        "#load_image(\"SB08-1073-012.JPG\", os.path.join(source, \"1\"))"
      ]
    },
    {
      "cell_type": "code",
      "metadata": {
        "id": "imB80k7PLXUx"
      },
      "source": [
        "AllFolders = os.listdir(source)\n",
        "ExcludedFolders = [\"Dolphin Data\", \"Images\", \"NO_ID\"]\n",
        "\n",
        "folders = list(set(AllFolders).difference(ExcludedFolders))\n",
        "#folders = [\"1\",\"3\",\"4\"]\n"
      ],
      "execution_count": null,
      "outputs": []
    },
    {
      "cell_type": "code",
      "metadata": {
        "id": "1rSKLgD5LXUy",
        "outputId": "4e732112-01ba-492a-c89f-25bf00f41979"
      },
      "source": [
        "res = pd.DataFrame(columns = [\"File\", \"Instances\"])\n",
        "\n",
        "for subfolder in tqdm(folders):\n",
        "    \n",
        "    next if os.path.exists(os.path.join(destination, subfolder)) else os.mkdir(os.path.join(destination, subfolder))\n",
        "    remaining_images = check_cropped(os.path.join(source, subfolder), os.path.join(destination, subfolder))\n",
        "    res = res.append(crop_images(remaining_images, os.path.join(source, subfolder), os.path.join(destination, subfolder)))"
      ],
      "execution_count": null,
      "outputs": [
        {
          "name": "stderr",
          "output_type": "stream",
          "text": [
            "  0%|                                                                                           | 0/71 [00:00<?, ?it/s]"
          ]
        },
        {
          "name": "stdout",
          "output_type": "stream",
          "text": [
            "Processing image: SB09-1260-333.JPG\n",
            "Processing 1 images\n",
            "image                    shape: (2592, 3888, 3)       min:    0.00000  max:  255.00000  uint8\n",
            "molded_images            shape: (1, 1024, 1024, 3)    min: -123.70000  max:  151.10000  float64\n",
            "image_metas              shape: (1, 14)               min:    0.00000  max: 3888.00000  float64\n",
            "anchors                  shape: (1, 261888, 4)        min:   -0.35390  max:    1.29134  float32\n"
          ]
        },
        {
          "name": "stderr",
          "output_type": "stream",
          "text": [
            "  1%|█▏                                                                                 | 1/71 [00:17<20:11, 17.31s/it]"
          ]
        },
        {
          "name": "stdout",
          "output_type": "stream",
          "text": [
            "Processing image: SB09-1260-467.JPG\n",
            "Processing 1 images\n",
            "image                    shape: (2592, 3888, 3)       min:    8.00000  max:  255.00000  uint8\n",
            "molded_images            shape: (1, 1024, 1024, 3)    min: -123.70000  max:  151.10000  float64\n",
            "image_metas              shape: (1, 14)               min:    0.00000  max: 3888.00000  float64\n",
            "anchors                  shape: (1, 261888, 4)        min:   -0.35390  max:    1.29134  float32\n"
          ]
        },
        {
          "name": "stderr",
          "output_type": "stream",
          "text": [
            "  3%|██▎                                                                                | 2/71 [00:32<18:43, 16.28s/it]"
          ]
        },
        {
          "name": "stdout",
          "output_type": "stream",
          "text": [
            "Processing image: SB09-1260-486.JPG\n",
            "Processing 1 images\n",
            "image                    shape: (2592, 3888, 3)       min:    5.00000  max:  253.00000  uint8\n",
            "molded_images            shape: (1, 1024, 1024, 3)    min: -123.70000  max:  141.10000  float64\n",
            "image_metas              shape: (1, 14)               min:    0.00000  max: 3888.00000  float64\n",
            "anchors                  shape: (1, 261888, 4)        min:   -0.35390  max:    1.29134  float32\n"
          ]
        },
        {
          "name": "stderr",
          "output_type": "stream",
          "text": [
            "  4%|███▌                                                                               | 3/71 [01:00<24:15, 21.40s/it]"
          ]
        },
        {
          "name": "stdout",
          "output_type": "stream",
          "text": [
            "Processing image: SB10-1356-682.jpg\n",
            "Processing 1 images\n",
            "image                    shape: (2304, 3456, 3)       min:    8.00000  max:  255.00000  uint8\n",
            "molded_images            shape: (1, 1024, 1024, 3)    min: -123.70000  max:  151.10000  float64\n",
            "image_metas              shape: (1, 14)               min:    0.00000  max: 3456.00000  float64\n",
            "anchors                  shape: (1, 261888, 4)        min:   -0.35390  max:    1.29134  float32\n"
          ]
        },
        {
          "name": "stderr",
          "output_type": "stream",
          "text": [
            "  6%|████▋                                                                              | 4/71 [01:09<18:16, 16.37s/it]"
          ]
        },
        {
          "name": "stdout",
          "output_type": "stream",
          "text": [
            "Processing image: SB10-1362-653.jpg\n",
            "Processing 1 images\n",
            "image                    shape: (2304, 3456, 3)       min:   15.00000  max:  255.00000  uint8\n",
            "molded_images            shape: (1, 1024, 1024, 3)    min: -123.70000  max:  151.10000  float64\n",
            "image_metas              shape: (1, 14)               min:    0.00000  max: 3456.00000  float64\n",
            "anchors                  shape: (1, 261888, 4)        min:   -0.35390  max:    1.29134  float32\n"
          ]
        },
        {
          "name": "stderr",
          "output_type": "stream",
          "text": [
            "  7%|█████▊                                                                             | 5/71 [01:43<25:09, 22.87s/it]"
          ]
        },
        {
          "name": "stdout",
          "output_type": "stream",
          "text": [
            "Processing image: SB10-1363-004.jpg\n",
            "Processing 1 images\n",
            "image                    shape: (2304, 3456, 3)       min:    7.00000  max:  247.00000  uint8\n",
            "molded_images            shape: (1, 1024, 1024, 3)    min: -123.70000  max:  126.10000  float64\n",
            "image_metas              shape: (1, 14)               min:    0.00000  max: 3456.00000  float64\n",
            "anchors                  shape: (1, 261888, 4)        min:   -0.35390  max:    1.29134  float32\n"
          ]
        },
        {
          "name": "stderr",
          "output_type": "stream",
          "text": [
            "  8%|███████                                                                            | 6/71 [01:51<19:26, 17.95s/it]"
          ]
        },
        {
          "name": "stdout",
          "output_type": "stream",
          "text": [
            "Processing image: SB10-1363-066.jpg\n",
            "Processing 1 images\n",
            "image                    shape: (2304, 3456, 3)       min:   11.00000  max:  255.00000  uint8\n",
            "molded_images            shape: (1, 1024, 1024, 3)    min: -123.70000  max:  143.10000  float64\n",
            "image_metas              shape: (1, 14)               min:    0.00000  max: 3456.00000  float64\n",
            "anchors                  shape: (1, 261888, 4)        min:   -0.35390  max:    1.29134  float32\n"
          ]
        },
        {
          "name": "stderr",
          "output_type": "stream",
          "text": [
            " 10%|████████▏                                                                          | 7/71 [02:00<15:53, 14.90s/it]"
          ]
        },
        {
          "name": "stdout",
          "output_type": "stream",
          "text": [
            "Processing image: SB10-1363-164.jpg\n",
            "Processing 1 images\n",
            "image                    shape: (2304, 3456, 3)       min:   13.00000  max:  255.00000  uint8\n",
            "molded_images            shape: (1, 1024, 1024, 3)    min: -123.70000  max:  146.10000  float64\n",
            "image_metas              shape: (1, 14)               min:    0.00000  max: 3456.00000  float64\n",
            "anchors                  shape: (1, 261888, 4)        min:   -0.35390  max:    1.29134  float32\n"
          ]
        },
        {
          "name": "stderr",
          "output_type": "stream",
          "text": [
            " 11%|█████████▎                                                                         | 8/71 [02:09<13:34, 12.92s/it]"
          ]
        },
        {
          "name": "stdout",
          "output_type": "stream",
          "text": [
            "Processing image: SB10-1371-287.jpg\n",
            "Processing 1 images\n",
            "image                    shape: (2304, 3456, 3)       min:    6.00000  max:  255.00000  uint8\n",
            "molded_images            shape: (1, 1024, 1024, 3)    min: -123.70000  max:  135.10000  float64\n",
            "image_metas              shape: (1, 14)               min:    0.00000  max: 3456.00000  float64\n",
            "anchors                  shape: (1, 261888, 4)        min:   -0.35390  max:    1.29134  float32\n"
          ]
        },
        {
          "name": "stderr",
          "output_type": "stream",
          "text": [
            " 13%|██████████▌                                                                        | 9/71 [02:22<13:38, 13.19s/it]"
          ]
        },
        {
          "name": "stdout",
          "output_type": "stream",
          "text": [
            "Processing image: SB10-1371-306.jpg\n",
            "Processing 1 images\n",
            "image                    shape: (2304, 3456, 3)       min:   24.00000  max:  255.00000  uint8\n",
            "molded_images            shape: (1, 1024, 1024, 3)    min: -123.70000  max:  151.10000  float64\n",
            "image_metas              shape: (1, 14)               min:    0.00000  max: 3456.00000  float64\n",
            "anchors                  shape: (1, 261888, 4)        min:   -0.35390  max:    1.29134  float32\n"
          ]
        },
        {
          "name": "stderr",
          "output_type": "stream",
          "text": [
            " 14%|███████████▌                                                                      | 10/71 [02:36<13:34, 13.36s/it]"
          ]
        },
        {
          "name": "stdout",
          "output_type": "stream",
          "text": [
            "Processing image: SB10-1371-316.jpg\n",
            "Processing 1 images\n",
            "image                    shape: (2304, 3456, 3)       min:   21.00000  max:  255.00000  uint8\n",
            "molded_images            shape: (1, 1024, 1024, 3)    min: -123.70000  max:  151.10000  float64\n",
            "image_metas              shape: (1, 14)               min:    0.00000  max: 3456.00000  float64\n",
            "anchors                  shape: (1, 261888, 4)        min:   -0.35390  max:    1.29134  float32\n"
          ]
        },
        {
          "name": "stderr",
          "output_type": "stream",
          "text": [
            " 15%|████████████▋                                                                     | 11/71 [02:45<11:52, 11.88s/it]"
          ]
        },
        {
          "name": "stdout",
          "output_type": "stream",
          "text": [
            "Processing image: SB10-1371-348.jpg\n",
            "Processing 1 images\n",
            "image                    shape: (2304, 3456, 3)       min:   10.00000  max:  255.00000  uint8\n",
            "molded_images            shape: (1, 1024, 1024, 3)    min: -123.70000  max:  147.10000  float64\n",
            "image_metas              shape: (1, 14)               min:    0.00000  max: 3456.00000  float64\n",
            "anchors                  shape: (1, 261888, 4)        min:   -0.35390  max:    1.29134  float32\n"
          ]
        },
        {
          "name": "stderr",
          "output_type": "stream",
          "text": [
            " 17%|█████████████▊                                                                    | 12/71 [02:59<12:16, 12.48s/it]"
          ]
        },
        {
          "name": "stdout",
          "output_type": "stream",
          "text": [
            "Processing image: SB10-1371-384.jpg\n",
            "Processing 1 images\n",
            "image                    shape: (2304, 3456, 3)       min:   12.00000  max:  255.00000  uint8\n",
            "molded_images            shape: (1, 1024, 1024, 3)    min: -123.70000  max:  150.10000  float64\n",
            "image_metas              shape: (1, 14)               min:    0.00000  max: 3456.00000  float64\n",
            "anchors                  shape: (1, 261888, 4)        min:   -0.35390  max:    1.29134  float32\n"
          ]
        },
        {
          "name": "stderr",
          "output_type": "stream",
          "text": [
            " 18%|███████████████                                                                   | 13/71 [03:12<12:25, 12.86s/it]"
          ]
        },
        {
          "name": "stdout",
          "output_type": "stream",
          "text": [
            "Processing image: SB11-1424-270.jpg\n",
            "Processing 1 images\n",
            "image                    shape: (2304, 3456, 3)       min:    9.00000  max:  255.00000  uint8\n",
            "molded_images            shape: (1, 1024, 1024, 3)    min: -123.70000  max:  151.10000  float64\n",
            "image_metas              shape: (1, 14)               min:    0.00000  max: 3456.00000  float64\n",
            "anchors                  shape: (1, 261888, 4)        min:   -0.35390  max:    1.29134  float32\n"
          ]
        },
        {
          "name": "stderr",
          "output_type": "stream",
          "text": [
            " 20%|████████████████▏                                                                 | 14/71 [03:21<10:59, 11.57s/it]"
          ]
        },
        {
          "name": "stdout",
          "output_type": "stream",
          "text": [
            "Processing image: SB11-1424-279.jpg\n",
            "Processing 1 images\n",
            "image                    shape: (2304, 3456, 3)       min:    8.00000  max:  255.00000  uint8\n",
            "molded_images            shape: (1, 1024, 1024, 3)    min: -123.70000  max:  151.10000  float64\n",
            "image_metas              shape: (1, 14)               min:    0.00000  max: 3456.00000  float64\n",
            "anchors                  shape: (1, 261888, 4)        min:   -0.35390  max:    1.29134  float32\n"
          ]
        },
        {
          "name": "stderr",
          "output_type": "stream",
          "text": [
            " 21%|█████████████████▎                                                                | 15/71 [03:29<09:57, 10.66s/it]"
          ]
        },
        {
          "name": "stdout",
          "output_type": "stream",
          "text": [
            "Processing image: SB11-1429-246.jpg\n",
            "Processing 1 images\n",
            "image                    shape: (2304, 3456, 3)       min:   17.00000  max:  255.00000  uint8\n",
            "molded_images            shape: (1, 1024, 1024, 3)    min: -123.70000  max:  151.10000  float64\n",
            "image_metas              shape: (1, 14)               min:    0.00000  max: 3456.00000  float64\n",
            "anchors                  shape: (1, 261888, 4)        min:   -0.35390  max:    1.29134  float32\n"
          ]
        },
        {
          "name": "stderr",
          "output_type": "stream",
          "text": [
            " 23%|██████████████████▍                                                               | 16/71 [03:36<08:36,  9.40s/it]"
          ]
        },
        {
          "name": "stdout",
          "output_type": "stream",
          "text": [
            "Processing image: SB11-1429-266.jpg\n",
            "Processing 1 images\n",
            "image                    shape: (2304, 3456, 3)       min:   29.00000  max:  255.00000  uint8\n",
            "molded_images            shape: (1, 1024, 1024, 3)    min: -123.70000  max:  151.10000  float64\n",
            "image_metas              shape: (1, 14)               min:    0.00000  max: 3456.00000  float64\n",
            "anchors                  shape: (1, 261888, 4)        min:   -0.35390  max:    1.29134  float32\n"
          ]
        },
        {
          "name": "stderr",
          "output_type": "stream",
          "text": [
            " 24%|███████████████████▋                                                              | 17/71 [03:44<08:14,  9.15s/it]"
          ]
        },
        {
          "name": "stdout",
          "output_type": "stream",
          "text": [
            "Processing image: SB11-1429-272.jpg\n",
            "Processing 1 images\n",
            "image                    shape: (2304, 3456, 3)       min:   19.00000  max:  255.00000  uint8\n",
            "molded_images            shape: (1, 1024, 1024, 3)    min: -123.70000  max:  151.10000  float64\n",
            "image_metas              shape: (1, 14)               min:    0.00000  max: 3456.00000  float64\n",
            "anchors                  shape: (1, 261888, 4)        min:   -0.35390  max:    1.29134  float32\n"
          ]
        },
        {
          "name": "stderr",
          "output_type": "stream",
          "text": [
            " 25%|████████████████████▊                                                             | 18/71 [03:53<07:58,  9.03s/it]"
          ]
        },
        {
          "name": "stdout",
          "output_type": "stream",
          "text": [
            "Processing image: SB12-1451-130.JPG\n",
            "Processing 1 images\n",
            "image                    shape: (2304, 3456, 3)       min:    5.00000  max:  255.00000  uint8\n",
            "molded_images            shape: (1, 1024, 1024, 3)    min: -123.70000  max:  151.10000  float64\n",
            "image_metas              shape: (1, 14)               min:    0.00000  max: 3456.00000  float64\n",
            "anchors                  shape: (1, 261888, 4)        min:   -0.35390  max:    1.29134  float32\n"
          ]
        },
        {
          "name": "stderr",
          "output_type": "stream",
          "text": [
            " 27%|█████████████████████▉                                                            | 19/71 [04:02<07:43,  8.91s/it]"
          ]
        },
        {
          "name": "stdout",
          "output_type": "stream",
          "text": [
            "Processing image: SB12-1451-200.JPG\n",
            "Processing 1 images\n",
            "image                    shape: (2304, 3456, 3)       min:    7.00000  max:  255.00000  uint8\n",
            "molded_images            shape: (1, 1024, 1024, 3)    min: -123.70000  max:  151.10000  float64\n",
            "image_metas              shape: (1, 14)               min:    0.00000  max: 3456.00000  float64\n",
            "anchors                  shape: (1, 261888, 4)        min:   -0.35390  max:    1.29134  float32\n"
          ]
        },
        {
          "name": "stderr",
          "output_type": "stream",
          "text": [
            " 28%|███████████████████████                                                           | 20/71 [04:10<07:30,  8.83s/it]"
          ]
        },
        {
          "name": "stdout",
          "output_type": "stream",
          "text": [
            "Processing image: SB12-1463-442.JPG\n",
            "Processing 1 images\n",
            "image                    shape: (2304, 3456, 3)       min:   26.00000  max:  255.00000  uint8\n",
            "molded_images            shape: (1, 1024, 1024, 3)    min: -123.70000  max:  151.10000  float64\n",
            "image_metas              shape: (1, 14)               min:    0.00000  max: 3456.00000  float64\n",
            "anchors                  shape: (1, 261888, 4)        min:   -0.35390  max:    1.29134  float32\n"
          ]
        },
        {
          "name": "stderr",
          "output_type": "stream",
          "text": [
            " 30%|████████████████████████▎                                                         | 21/71 [04:45<13:44, 16.49s/it]"
          ]
        },
        {
          "name": "stdout",
          "output_type": "stream",
          "text": [
            "Processing image: SB12-1466-084.JPG\n",
            "Processing 1 images\n",
            "image                    shape: (2304, 3456, 3)       min:    9.00000  max:  255.00000  uint8\n",
            "molded_images            shape: (1, 1024, 1024, 3)    min: -123.70000  max:  144.10000  float64\n",
            "image_metas              shape: (1, 14)               min:    0.00000  max: 3456.00000  float64\n",
            "anchors                  shape: (1, 261888, 4)        min:   -0.35390  max:    1.29134  float32\n"
          ]
        },
        {
          "name": "stderr",
          "output_type": "stream",
          "text": [
            " 31%|█████████████████████████▍                                                        | 22/71 [05:12<16:10, 19.81s/it]"
          ]
        },
        {
          "name": "stdout",
          "output_type": "stream",
          "text": [
            "Processing image: SB12-1466-127.JPG\n",
            "Processing 1 images\n",
            "image                    shape: (2304, 3456, 3)       min:    9.00000  max:  255.00000  uint8\n",
            "molded_images            shape: (1, 1024, 1024, 3)    min: -123.70000  max:  151.10000  float64\n",
            "image_metas              shape: (1, 14)               min:    0.00000  max: 3456.00000  float64\n",
            "anchors                  shape: (1, 261888, 4)        min:   -0.35390  max:    1.29134  float32\n"
          ]
        },
        {
          "name": "stderr",
          "output_type": "stream",
          "text": [
            " 32%|██████████████████████████▌                                                       | 23/71 [05:23<13:37, 17.03s/it]"
          ]
        },
        {
          "name": "stdout",
          "output_type": "stream",
          "text": [
            "Processing image: SB12-1466-611.JPG\n",
            "Processing 1 images\n",
            "image                    shape: (2304, 3456, 3)       min:   16.00000  max:  255.00000  uint8\n",
            "molded_images            shape: (1, 1024, 1024, 3)    min: -123.70000  max:  151.10000  float64\n",
            "image_metas              shape: (1, 14)               min:    0.00000  max: 3456.00000  float64\n",
            "anchors                  shape: (1, 261888, 4)        min:   -0.35390  max:    1.29134  float32\n"
          ]
        },
        {
          "name": "stderr",
          "output_type": "stream",
          "text": [
            " 34%|███████████████████████████▋                                                      | 24/71 [05:34<11:56, 15.24s/it]"
          ]
        },
        {
          "name": "stdout",
          "output_type": "stream",
          "text": [
            "Processing image: SB12-1466-633.JPG\n",
            "Processing 1 images\n",
            "image                    shape: (2304, 3456, 3)       min:   23.00000  max:  255.00000  uint8\n",
            "molded_images            shape: (1, 1024, 1024, 3)    min: -123.70000  max:  150.10000  float64\n",
            "image_metas              shape: (1, 14)               min:    0.00000  max: 3456.00000  float64\n",
            "anchors                  shape: (1, 261888, 4)        min:   -0.35390  max:    1.29134  float32\n"
          ]
        },
        {
          "name": "stderr",
          "output_type": "stream",
          "text": [
            " 35%|████████████████████████████▊                                                     | 25/71 [05:52<12:17, 16.04s/it]"
          ]
        },
        {
          "name": "stdout",
          "output_type": "stream",
          "text": [
            "Processing image: SB12-1466-634.JPG\n",
            "Processing 1 images\n",
            "image                    shape: (2304, 3456, 3)       min:   15.00000  max:  255.00000  uint8\n",
            "molded_images            shape: (1, 1024, 1024, 3)    min: -123.70000  max:  147.10000  float64\n",
            "image_metas              shape: (1, 14)               min:    0.00000  max: 3456.00000  float64\n",
            "anchors                  shape: (1, 261888, 4)        min:   -0.35390  max:    1.29134  float32\n"
          ]
        },
        {
          "name": "stderr",
          "output_type": "stream",
          "text": [
            " 37%|██████████████████████████████                                                    | 26/71 [06:01<10:22, 13.84s/it]"
          ]
        },
        {
          "name": "stdout",
          "output_type": "stream",
          "text": [
            "Processing image: SB12-1472-334.JPG\n",
            "Processing 1 images\n",
            "image                    shape: (2304, 3456, 3)       min:    0.00000  max:  255.00000  uint8\n",
            "molded_images            shape: (1, 1024, 1024, 3)    min: -123.70000  max:  151.10000  float64\n",
            "image_metas              shape: (1, 14)               min:    0.00000  max: 3456.00000  float64\n",
            "anchors                  shape: (1, 261888, 4)        min:   -0.35390  max:    1.29134  float32\n"
          ]
        },
        {
          "name": "stderr",
          "output_type": "stream",
          "text": [
            " 38%|███████████████████████████████▏                                                  | 27/71 [06:10<09:08, 12.47s/it]"
          ]
        },
        {
          "name": "stdout",
          "output_type": "stream",
          "text": [
            "Processing image: SB12-1472-338.JPG\n",
            "Processing 1 images\n",
            "image                    shape: (2304, 3456, 3)       min:    0.00000  max:  255.00000  uint8\n",
            "molded_images            shape: (1, 1024, 1024, 3)    min: -123.70000  max:  151.10000  float64\n",
            "image_metas              shape: (1, 14)               min:    0.00000  max: 3456.00000  float64\n",
            "anchors                  shape: (1, 261888, 4)        min:   -0.35390  max:    1.29134  float32\n"
          ]
        }
      ]
    },
    {
      "cell_type": "code",
      "metadata": {
        "id": "XmYDWOYMLXUy"
      },
      "source": [
        "res.to_csv (os.path.join(ROOT_DIR, \"Results//171121_CroppingResults.csv\"), index = False, header=True)"
      ],
      "execution_count": null,
      "outputs": []
    },
    {
      "cell_type": "code",
      "metadata": {
        "id": "Sc5teBVULXUy"
      },
      "source": [
        "crop_images(remaining_images, os.path.join(source, subfolder), os.path.join(destination, subfolder))"
      ],
      "execution_count": null,
      "outputs": []
    },
    {
      "cell_type": "code",
      "metadata": {
        "id": "Wx32Wy2SLXUz"
      },
      "source": [
        "list(remaining_images)"
      ],
      "execution_count": null,
      "outputs": []
    },
    {
      "cell_type": "code",
      "metadata": {
        "id": "FfkSJpfWLXUz"
      },
      "source": [
        "subfolder = \"1\""
      ],
      "execution_count": null,
      "outputs": []
    },
    {
      "cell_type": "markdown",
      "metadata": {
        "id": "YCbuCtenLXUz"
      },
      "source": [
        "This section below crops the mask as is."
      ]
    },
    {
      "cell_type": "code",
      "metadata": {
        "id": "LoAPtsmuLXUz"
      },
      "source": [
        "# Loap through all images in selected folder\n",
        "\n",
        "res = pd.DataFrame(columns = [\"File\", \"Instances\"])\n",
        "\n",
        "for img in tqdm(list(RemainingImages)):\n",
        "    \n",
        "    #img = os.listdir(IMAGE_DIR)[i]\n",
        "    \n",
        "    file_names = img\n",
        "    \n",
        "    OGimage = skimage.io.imread(os.path.join(IMAGE_DIR, img))\n",
        "\n",
        "    # Run detection\n",
        "    results = model.detect([OGimage], verbose=1)\n",
        "\n",
        "    # Visualize results\n",
        "    r = results[0]\n",
        "\n",
        "    #visualize.display_instances(image, r['rois'], r['masks'], r['class_ids'], \n",
        "    #                       class_names, r['scores'])\n",
        "\n",
        "    res = res.append(pd.DataFrame([[img, len((r[\"rois\"]))]], columns = [\"File\", \"Instances\"]))\n",
        "\n",
        "    #visualize.display_instances2(OGimage, r['rois'], r['masks'], r['class_ids'], \n",
        "     #                   class_names, r['scores'], img = img)\n",
        "\n",
        "    #Processed_image = visualize.display_instances2(OGimage, r['rois'], r['masks'], r['class_ids'], \n",
        "    #                    class_names, r['scores'], img = img)\n",
        "\n",
        "    ## get and then save the segmented objects\n",
        "\n",
        "    i = 0\n",
        "\n",
        "    mask = r[\"masks\"]\n",
        "    \n",
        "    reshaped_masks = mask.transpose(2,0,1).reshape(mask.shape[2], r[\"masks\"].shape[0],-1)\n",
        "    ranks = order_masks(reshaped_masks)\n",
        "    \n",
        "    for i in range(r[\"masks\"].shape[2]):\n",
        "        OGimage = cv2.imread(os.path.join(IMAGE_DIR, img))\n",
        "\n",
        "        #image = cv2.cvtColor(image, cv2.COLOR_BGR2RGB)\n",
        "        #OGimage = imutils.resize(OGimage, width=r[\"masks\"].shape[1], height = r[\"masks\"].shape[0])\n",
        "        OGimage = cv2.resize(OGimage, ( r[\"masks\"].shape[1], r[\"masks\"].shape[0]))\n",
        "\n",
        "        for j in range(OGimage.shape[2]):\n",
        "\n",
        "            mask = cv2.dilate(np.float32(r[\"masks\"]), cv2.getStructuringElement(cv2.MORPH_ELLIPSE, (28,28)), iterations = 1)\n",
        "            \n",
        "            try:\n",
        "                mask1 = mask.transpose(2,0,1).reshape(2, r[\"masks\"].shape[0],-1)[i]\n",
        "            except:\n",
        "                mask1 = mask\n",
        "\n",
        "            OGimage[:,:,j] = OGimage[:,:,j] * mask1[:,:]\n",
        "\n",
        "        filename = filename = os.path.join(CroppedDir, \"CroppedDil_\" + str(ranks[i]) + \"_\"+ img)\n",
        "        cv2.imwrite(filename,OGimage)\n",
        "        i+=1\n",
        "\n",
        "   \n",
        "    \n",
        "res.to_csv (r'C:\\Users\\tinom\\Mask_RCNN\\BND\\Instance segmentation on trained weights\\Results2.csv', index = False, header=True)"
      ],
      "execution_count": null,
      "outputs": []
    },
    {
      "cell_type": "markdown",
      "metadata": {
        "scrolled": false,
        "id": "vmp43OSwLXU0"
      },
      "source": [
        "# Loop through all images in selected folder\n",
        "\n",
        "res = pd.DataFrame(columns = [\"File\", \"Instances\"])\n",
        "\n",
        "for img in RemainingImages:\n",
        "    \n",
        "    #img = os.listdir(IMAGE_DIR)[i]\n",
        "    \n",
        "    file_names = img\n",
        "    \n",
        "    #try:\n",
        "    OGimage = skimage.io.imread(os.path.join(IMAGE_DIR, img))\n",
        "\n",
        "    # Run detection\n",
        "    results = model.detect([OGimage], verbose=1)\n",
        "\n",
        "    # Visualize results\n",
        "    r = results[0]\n",
        "\n",
        "    #visualize.display_instances(image, r['rois'], r['masks'], r['class_ids'], \n",
        "    #                       class_names, r['scores'])\n",
        "\n",
        "    res = res.append(pd.DataFrame([[img, len((r[\"rois\"]))]], columns = [\"File\", \"Instances\"]))\n",
        "\n",
        "    #visualize.display_instances2(OGimage, r['rois'], r['masks'], r['class_ids'], \n",
        "     #                   class_names, r['scores'], img = img)\n",
        "\n",
        "    #Turning off visualise to make cropping faster\n",
        "    #Processed_image = visualize.display_instances2(OGimage, r['rois'], r['masks'], r['class_ids'], \n",
        "    #                    class_names, r['scores'], img = img)\n",
        "\n",
        "    ## get and then save the segmented objects\n",
        "\n",
        "    i = 0\n",
        "\n",
        "    mask = r[\"masks\"]\n",
        "\n",
        "    for i in range(mask.shape[2]):\n",
        "        OGimage = cv2.imread(os.path.join(IMAGE_DIR, img))\n",
        "\n",
        "        #image = cv2.cvtColor(image, cv2.COLOR_BGR2RGB)\n",
        "        OGimage = imutils.resize(OGimage, width=mask.shape[1])\n",
        "\n",
        "        for j in range(OGimage.shape[2]):\n",
        "\n",
        "              OGimage[:,:,j] = OGimage[:,:,j] * mask[:,:,i]\n",
        "\n",
        "        filename = os.path.join(CroppedDir, \"Cropped_\" + str(i) + \"_\"+ img)\n",
        "        cv2.imwrite(filename,OGimage)\n",
        "        i+=1\n",
        "\n",
        "  #  except:\n",
        "   #     pass\n",
        "    \n",
        "#res.to_csv (r'C:\\Users\\tinom\\Mask_RCNN\\BND\\Instance segmentation on trained weights\\Results2.csv', index = False, header=True)"
      ]
    },
    {
      "cell_type": "markdown",
      "metadata": {
        "id": "OCGFNzeuLXU1"
      },
      "source": [
        "The section below pads the mask before cropping."
      ]
    },
    {
      "cell_type": "code",
      "metadata": {
        "id": "VKUXF-frLXU1"
      },
      "source": [
        "res.append(pd.DataFrame([[img, len((r[\"rois\"]))]], columns = [\"File\", \"Instances\"]))res.append(pd.DataFrame([[img, len((r[\"rois\"]))]], columns = [\"File\", \"Instances\"]))\n"
      ],
      "execution_count": null,
      "outputs": []
    },
    {
      "cell_type": "code",
      "metadata": {
        "id": "jcl173A0LXU1"
      },
      "source": [
        "a = pd.DataFrame(columns = [\"Test\", \"Result\"])\n",
        "a"
      ],
      "execution_count": null,
      "outputs": []
    },
    {
      "cell_type": "code",
      "metadata": {
        "id": "fjjFU8ydLXU2"
      },
      "source": [
        "b = pd.DataFrame([[\"Maths\",\"2\"]], columns = [\"Test\", \"Result\"])\n",
        "b"
      ],
      "execution_count": null,
      "outputs": []
    },
    {
      "cell_type": "code",
      "metadata": {
        "id": "qCmw5qxTLXU2"
      },
      "source": [
        "a.append(b)"
      ],
      "execution_count": null,
      "outputs": []
    }
  ]
}